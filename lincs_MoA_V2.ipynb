{
 "cells": [
  {
   "cell_type": "markdown",
   "source": [
    "Some helpful resources:\n",
    "- [Colab Tutorial with Database scheme](https://colab.research.google.com/github/cmap/lincs-workshop-2020/blob/main/notebooks/data_access/cmapBQ_Tutorial.ipynb)"
   ],
   "metadata": {
    "collapsed": false
   },
   "id": "fdab84dc97ffd437"
  },
  {
   "cell_type": "code",
   "execution_count": 1,
   "outputs": [],
   "source": [
    "import pandas as pd\n",
    "import seaborn as sns\n",
    "import anndata\n",
    "from tqdm import tqdm\n",
    "import requests\n",
    "import scanpy as sc\n",
    "from sklearn.linear_model import LogisticRegression\n",
    "from sklearn.model_selection import train_test_split\n",
    "import numpy as np"
   ],
   "metadata": {
    "collapsed": false,
    "ExecuteTime": {
     "start_time": "2024-02-07T09:52:34.382746Z"
    }
   },
   "id": "initial_id"
  },
  {
   "cell_type": "code",
   "execution_count": 2,
   "outputs": [],
   "source": [
    "#import warnings\n",
    "#warnings.filterwarnings('ignore')"
   ],
   "metadata": {
    "collapsed": false,
    "ExecuteTime": {
     "end_time": "2024-02-07T09:52:40.383411Z",
     "start_time": "2024-02-07T09:52:40.381154Z"
    }
   },
   "id": "8af54146c76c8213"
  },
  {
   "cell_type": "code",
   "execution_count": 3,
   "outputs": [],
   "source": [
    "# URL with credentials\n",
    "url = ('https://s3.amazonaws.com/data.clue.io/api/bq_creds/BQ-demo-credentials.json')\n",
    "\n",
    "response = requests.get(url)\n",
    "credentials_filepath='/Users/mamba/Desktop/BQ-demo-credentials.json'\n",
    "\n",
    "with open(credentials_filepath, 'w') as f:\n",
    "  f.write(response.text)"
   ],
   "metadata": {
    "collapsed": false,
    "ExecuteTime": {
     "end_time": "2024-02-07T09:52:41.281031Z",
     "start_time": "2024-02-07T09:52:40.384356Z"
    }
   },
   "id": "6e6c506a8615520"
  },
  {
   "cell_type": "code",
   "execution_count": 4,
   "outputs": [],
   "source": [
    "import cmapBQ.query as cmap_query\n",
    "import cmapBQ.config as cmap_config\n",
    "\n",
    "#credentials_filepath='/BQ-demo-credentials.json'\n",
    "# Set up credentials\n",
    "cmap_config.setup_credentials(credentials_filepath)\n",
    "bq_client = cmap_config.get_bq_client()"
   ],
   "metadata": {
    "collapsed": false,
    "ExecuteTime": {
     "end_time": "2024-02-07T09:53:12.875578Z",
     "start_time": "2024-02-07T09:53:09.105577Z"
    }
   },
   "id": "1a8e74e9693e2fa8"
  },
  {
   "cell_type": "code",
   "execution_count": 90,
   "outputs": [
    {
     "data": {
      "text/plain": "AnnData object with n_obs × n_vars = 1269922 × 978"
     },
     "execution_count": 90,
     "metadata": {},
     "output_type": "execute_result"
    }
   ],
   "source": [
    "from cmapPy.pandasGEXpress.parse import parse\n",
    "#data1 = parse(\"/Users/mamba/Downloads/GSE92742_Broad_LINCS_Level2_GEX_delta_n49216x978.gctx\")\n",
    "data2 = parse(\"/Users/mamba/Downloads/GSE92742_Broad_LINCS_Level2_GEX_epsilon_n1269922x978.gctx\")\n",
    "\n",
    "adata = anndata.AnnData(X = data2.data_df.T)\n",
    "adata.obs_names =  data2.data_df.columns.tolist()\n",
    "adata.var_names = data2.data_df.index.tolist()\n",
    "adata"
   ],
   "metadata": {
    "collapsed": false,
    "ExecuteTime": {
     "end_time": "2024-02-07T13:39:00.119772Z",
     "start_time": "2024-02-07T13:38:55.852165Z"
    }
   },
   "id": "f14a8e312bc46070"
  },
  {
   "cell_type": "code",
   "execution_count": 125,
   "outputs": [],
   "source": [
    "# optionally subsample adata\n",
    "# sc.pp.subsample(adata, 0.2)"
   ],
   "metadata": {
    "collapsed": false,
    "ExecuteTime": {
     "end_time": "2024-01-19T15:17:33.409455Z",
     "start_time": "2024-01-19T15:17:32.038280Z"
    }
   },
   "id": "baee2bc1c829eea0"
  },
  {
   "cell_type": "code",
   "execution_count": 91,
   "outputs": [
    {
     "data": {
      "text/plain": "Index(['AML001_CD34_24H_X1_F1B10:A03', 'AML001_CD34_24H_X1_F1B10:A04',\n       'AML001_CD34_24H_X1_F1B10:A05', 'AML001_CD34_24H_X1_F1B10:A07',\n       'AML001_CD34_24H_X1_F1B10:A08'],\n      dtype='object')"
     },
     "execution_count": 91,
     "metadata": {},
     "output_type": "execute_result"
    }
   ],
   "source": [
    "adata.obs_names[:5]"
   ],
   "metadata": {
    "collapsed": false,
    "ExecuteTime": {
     "end_time": "2024-02-07T13:39:00.126960Z",
     "start_time": "2024-02-07T13:39:00.120343Z"
    }
   },
   "id": "6a2cfdecefafef24"
  },
  {
   "cell_type": "code",
   "execution_count": 92,
   "outputs": [
    {
     "data": {
      "text/plain": "Index(['780', '7849', '6193', '23', '9552'], dtype='object')"
     },
     "execution_count": 92,
     "metadata": {},
     "output_type": "execute_result"
    }
   ],
   "source": [
    "adata.var_names[:5]"
   ],
   "metadata": {
    "collapsed": false,
    "ExecuteTime": {
     "end_time": "2024-02-07T13:39:01.669327Z",
     "start_time": "2024-02-07T13:39:01.659033Z"
    }
   },
   "id": "44b32c718a643c01"
  },
  {
   "cell_type": "code",
   "execution_count": 93,
   "outputs": [],
   "source": [
    "# var: gene names etc - saved in geneinfo table, rid = gene_id\n",
    "rids = adata.var_names.astype(int).tolist()\n",
    "var_df = cmap_query.cmap_genes(bq_client, gene_id=rids)"
   ],
   "metadata": {
    "collapsed": false,
    "ExecuteTime": {
     "end_time": "2024-02-07T13:39:08.878334Z",
     "start_time": "2024-02-07T13:39:04.483012Z"
    }
   },
   "id": "7c98c95fba06bbb7"
  },
  {
   "cell_type": "code",
   "execution_count": 94,
   "outputs": [
    {
     "data": {
      "text/plain": "   gene_id gene_symbol       ensembl_id  \\\n0       16        AARS  ENSG00000090861   \n1       23       ABCF1  ENSG00000204574   \n2       25        ABL1  ENSG00000097007   \n3       30       ACAA1  ENSG00000060971   \n4       39       ACAT2  ENSG00000120437   \n\n                                          gene_title       gene_type   src  \\\n0                             alanyl-tRNA synthetase  protein-coding  NCBI   \n1          ATP binding cassette subfamily F member 1  protein-coding  NCBI   \n2  ABL proto-oncogene 1, non-receptor tyrosine ki...  protein-coding  NCBI   \n3                       acetyl-CoA acyltransferase 1  protein-coding  NCBI   \n4                     acetyl-CoA acetyltransferase 2  protein-coding  NCBI   \n\n  feature_space  \n0      landmark  \n1      landmark  \n2      landmark  \n3      landmark  \n4      landmark  ",
      "text/html": "<div>\n<style scoped>\n    .dataframe tbody tr th:only-of-type {\n        vertical-align: middle;\n    }\n\n    .dataframe tbody tr th {\n        vertical-align: top;\n    }\n\n    .dataframe thead th {\n        text-align: right;\n    }\n</style>\n<table border=\"1\" class=\"dataframe\">\n  <thead>\n    <tr style=\"text-align: right;\">\n      <th></th>\n      <th>gene_id</th>\n      <th>gene_symbol</th>\n      <th>ensembl_id</th>\n      <th>gene_title</th>\n      <th>gene_type</th>\n      <th>src</th>\n      <th>feature_space</th>\n    </tr>\n  </thead>\n  <tbody>\n    <tr>\n      <th>0</th>\n      <td>16</td>\n      <td>AARS</td>\n      <td>ENSG00000090861</td>\n      <td>alanyl-tRNA synthetase</td>\n      <td>protein-coding</td>\n      <td>NCBI</td>\n      <td>landmark</td>\n    </tr>\n    <tr>\n      <th>1</th>\n      <td>23</td>\n      <td>ABCF1</td>\n      <td>ENSG00000204574</td>\n      <td>ATP binding cassette subfamily F member 1</td>\n      <td>protein-coding</td>\n      <td>NCBI</td>\n      <td>landmark</td>\n    </tr>\n    <tr>\n      <th>2</th>\n      <td>25</td>\n      <td>ABL1</td>\n      <td>ENSG00000097007</td>\n      <td>ABL proto-oncogene 1, non-receptor tyrosine ki...</td>\n      <td>protein-coding</td>\n      <td>NCBI</td>\n      <td>landmark</td>\n    </tr>\n    <tr>\n      <th>3</th>\n      <td>30</td>\n      <td>ACAA1</td>\n      <td>ENSG00000060971</td>\n      <td>acetyl-CoA acyltransferase 1</td>\n      <td>protein-coding</td>\n      <td>NCBI</td>\n      <td>landmark</td>\n    </tr>\n    <tr>\n      <th>4</th>\n      <td>39</td>\n      <td>ACAT2</td>\n      <td>ENSG00000120437</td>\n      <td>acetyl-CoA acetyltransferase 2</td>\n      <td>protein-coding</td>\n      <td>NCBI</td>\n      <td>landmark</td>\n    </tr>\n  </tbody>\n</table>\n</div>"
     },
     "execution_count": 94,
     "metadata": {},
     "output_type": "execute_result"
    }
   ],
   "source": [
    "var_df.head(5)"
   ],
   "metadata": {
    "collapsed": false,
    "ExecuteTime": {
     "end_time": "2024-02-07T13:39:08.887963Z",
     "start_time": "2024-02-07T13:39:08.878779Z"
    }
   },
   "id": "efa28d1e2fc78b85"
  },
  {
   "cell_type": "code",
   "execution_count": 11,
   "outputs": [
    {
     "name": "stderr",
     "output_type": "stream",
     "text": [
      "100%|██████████| 64/64 [11:04<00:00, 10.38s/it]\n"
     ]
    }
   ],
   "source": [
    "# cids are the unique identifiers for the samples (cells), we will now query more info about the samples\n",
    "cids = adata.obs_names.tolist()\n",
    "obs_df = pd.DataFrame()\n",
    "step_size = 20000\n",
    "for i in tqdm(range(0, len(cids), step_size)):\n",
    "    obs_df = pd.concat((obs_df, cmap_query.cmap_profiles(bq_client, sample_id=cids[i:i+step_size])))"
   ],
   "metadata": {
    "collapsed": false,
    "ExecuteTime": {
     "end_time": "2024-02-07T10:05:55.387232Z",
     "start_time": "2024-02-07T09:54:51.064378Z"
    }
   },
   "id": "310cf21127598f94"
  },
  {
   "cell_type": "code",
   "execution_count": 12,
   "outputs": [],
   "source": [
    "# save obs_df to csv\n",
    "obs_df.to_csv('/Users/mamba/Desktop/obs_df_V2.csv')"
   ],
   "metadata": {
    "collapsed": false,
    "ExecuteTime": {
     "end_time": "2024-02-07T10:08:58.948707Z",
     "start_time": "2024-02-07T10:08:55.020042Z"
    }
   },
   "id": "c673dd029f3c865d"
  },
  {
   "cell_type": "code",
   "execution_count": 95,
   "outputs": [],
   "source": [
    "obs_df = pd.read_csv('/Users/mamba/Desktop/obs_df_V2.csv')"
   ],
   "metadata": {
    "collapsed": false,
    "ExecuteTime": {
     "end_time": "2024-02-07T13:39:14.586608Z",
     "start_time": "2024-02-07T13:39:12.966253Z"
    }
   },
   "id": "64bfdede47557832"
  },
  {
   "cell_type": "code",
   "execution_count": 96,
   "outputs": [
    {
     "data": {
      "text/plain": "         Unnamed: 0                               sample_id  \\\n0                 0               AML001_HL60_6H_X2_B11:O13   \n1                 1               AML001_HL60_6H_X2_B11:H22   \n2                 2               AML001_HL60_6H_X2_B11:O11   \n3                 3              AML001_PC3_6H_X1_F1B10:B17   \n4                 4              AML001_PC3_6H_X1_F1B10:O23   \n...             ...                                     ...   \n1235687        9868  TAK004_U2OS_96H_X2_B10_DUO52HI53LO:I13   \n1235688        9869  TAK004_U2OS_96H_X2_B10_DUO52HI53LO:P19   \n1235689        9870  TAK004_U2OS_96H_X2_B10_DUO52HI53LO:I24   \n1235690        9871  TAK004_U2OS_96H_X2_B10_DUO52HI53LO:G14   \n1235691        9872  TAK004_U2OS_96H_X2_B10_DUO52HI53LO:P15   \n\n                                  det_plate         pert_id     cmap_name  \\\n0                     AML001_HL60_6H_X2_B11            DMSO          DMSO   \n1                     AML001_HL60_6H_X2_B11            DMSO          DMSO   \n2                     AML001_HL60_6H_X2_B11            DMSO          DMSO   \n3                    AML001_PC3_6H_X1_F1B10            DMSO          DMSO   \n4                    AML001_PC3_6H_X1_F1B10            DMSO          DMSO   \n...                                     ...             ...           ...   \n1235687  TAK004_U2OS_96H_X2_B10_DUO52HI53LO  TRCN0000072208           RFP   \n1235688  TAK004_U2OS_96H_X2_B10_DUO52HI53LO  TRCN0000208001  EMPTY_VECTOR   \n1235689  TAK004_U2OS_96H_X2_B10_DUO52HI53LO  TRCN0000072209           RFP   \n1235690  TAK004_U2OS_96H_X2_B10_DUO52HI53LO  TRCN0000196342       RPS6KB1   \n1235691  TAK004_U2OS_96H_X2_B10_DUO52HI53LO  TRCN0000195303          EGFR   \n\n           pert_type cell_iname pert_itime pert_idose  \\\n0        ctl_vehicle       HL60        6 h        NaN   \n1        ctl_vehicle       HL60        6 h        NaN   \n2        ctl_vehicle       HL60        6 h        NaN   \n3        ctl_vehicle        PC3        6 h        NaN   \n4        ctl_vehicle        PC3        6 h        NaN   \n...              ...        ...        ...        ...   \n1235687   ctl_vector       U2OS       96 h       1 uL   \n1235688   ctl_vector       U2OS       96 h       1 uL   \n1235689   ctl_vector       U2OS       96 h       1 uL   \n1235690       trt_sh       U2OS       96 h       1 uL   \n1235691       trt_sh       U2OS       96 h       1 uL   \n\n                                det_plate_1  build_name project_code  \n0                     AML001_HL60_6H_X2_B11         NaN          AML  \n1                     AML001_HL60_6H_X2_B11         NaN          AML  \n2                     AML001_HL60_6H_X2_B11         NaN          AML  \n3                    AML001_PC3_6H_X1_F1B10         NaN          AML  \n4                    AML001_PC3_6H_X1_F1B10         NaN          AML  \n...                                     ...         ...          ...  \n1235687  TAK004_U2OS_96H_X2_B10_DUO52HI53LO         NaN          TAK  \n1235688  TAK004_U2OS_96H_X2_B10_DUO52HI53LO         NaN          TAK  \n1235689  TAK004_U2OS_96H_X2_B10_DUO52HI53LO         NaN          TAK  \n1235690  TAK004_U2OS_96H_X2_B10_DUO52HI53LO         NaN          TAK  \n1235691  TAK004_U2OS_96H_X2_B10_DUO52HI53LO         NaN          TAK  \n\n[1235692 rows x 12 columns]",
      "text/html": "<div>\n<style scoped>\n    .dataframe tbody tr th:only-of-type {\n        vertical-align: middle;\n    }\n\n    .dataframe tbody tr th {\n        vertical-align: top;\n    }\n\n    .dataframe thead th {\n        text-align: right;\n    }\n</style>\n<table border=\"1\" class=\"dataframe\">\n  <thead>\n    <tr style=\"text-align: right;\">\n      <th></th>\n      <th>Unnamed: 0</th>\n      <th>sample_id</th>\n      <th>det_plate</th>\n      <th>pert_id</th>\n      <th>cmap_name</th>\n      <th>pert_type</th>\n      <th>cell_iname</th>\n      <th>pert_itime</th>\n      <th>pert_idose</th>\n      <th>det_plate_1</th>\n      <th>build_name</th>\n      <th>project_code</th>\n    </tr>\n  </thead>\n  <tbody>\n    <tr>\n      <th>0</th>\n      <td>0</td>\n      <td>AML001_HL60_6H_X2_B11:O13</td>\n      <td>AML001_HL60_6H_X2_B11</td>\n      <td>DMSO</td>\n      <td>DMSO</td>\n      <td>ctl_vehicle</td>\n      <td>HL60</td>\n      <td>6 h</td>\n      <td>NaN</td>\n      <td>AML001_HL60_6H_X2_B11</td>\n      <td>NaN</td>\n      <td>AML</td>\n    </tr>\n    <tr>\n      <th>1</th>\n      <td>1</td>\n      <td>AML001_HL60_6H_X2_B11:H22</td>\n      <td>AML001_HL60_6H_X2_B11</td>\n      <td>DMSO</td>\n      <td>DMSO</td>\n      <td>ctl_vehicle</td>\n      <td>HL60</td>\n      <td>6 h</td>\n      <td>NaN</td>\n      <td>AML001_HL60_6H_X2_B11</td>\n      <td>NaN</td>\n      <td>AML</td>\n    </tr>\n    <tr>\n      <th>2</th>\n      <td>2</td>\n      <td>AML001_HL60_6H_X2_B11:O11</td>\n      <td>AML001_HL60_6H_X2_B11</td>\n      <td>DMSO</td>\n      <td>DMSO</td>\n      <td>ctl_vehicle</td>\n      <td>HL60</td>\n      <td>6 h</td>\n      <td>NaN</td>\n      <td>AML001_HL60_6H_X2_B11</td>\n      <td>NaN</td>\n      <td>AML</td>\n    </tr>\n    <tr>\n      <th>3</th>\n      <td>3</td>\n      <td>AML001_PC3_6H_X1_F1B10:B17</td>\n      <td>AML001_PC3_6H_X1_F1B10</td>\n      <td>DMSO</td>\n      <td>DMSO</td>\n      <td>ctl_vehicle</td>\n      <td>PC3</td>\n      <td>6 h</td>\n      <td>NaN</td>\n      <td>AML001_PC3_6H_X1_F1B10</td>\n      <td>NaN</td>\n      <td>AML</td>\n    </tr>\n    <tr>\n      <th>4</th>\n      <td>4</td>\n      <td>AML001_PC3_6H_X1_F1B10:O23</td>\n      <td>AML001_PC3_6H_X1_F1B10</td>\n      <td>DMSO</td>\n      <td>DMSO</td>\n      <td>ctl_vehicle</td>\n      <td>PC3</td>\n      <td>6 h</td>\n      <td>NaN</td>\n      <td>AML001_PC3_6H_X1_F1B10</td>\n      <td>NaN</td>\n      <td>AML</td>\n    </tr>\n    <tr>\n      <th>...</th>\n      <td>...</td>\n      <td>...</td>\n      <td>...</td>\n      <td>...</td>\n      <td>...</td>\n      <td>...</td>\n      <td>...</td>\n      <td>...</td>\n      <td>...</td>\n      <td>...</td>\n      <td>...</td>\n      <td>...</td>\n    </tr>\n    <tr>\n      <th>1235687</th>\n      <td>9868</td>\n      <td>TAK004_U2OS_96H_X2_B10_DUO52HI53LO:I13</td>\n      <td>TAK004_U2OS_96H_X2_B10_DUO52HI53LO</td>\n      <td>TRCN0000072208</td>\n      <td>RFP</td>\n      <td>ctl_vector</td>\n      <td>U2OS</td>\n      <td>96 h</td>\n      <td>1 uL</td>\n      <td>TAK004_U2OS_96H_X2_B10_DUO52HI53LO</td>\n      <td>NaN</td>\n      <td>TAK</td>\n    </tr>\n    <tr>\n      <th>1235688</th>\n      <td>9869</td>\n      <td>TAK004_U2OS_96H_X2_B10_DUO52HI53LO:P19</td>\n      <td>TAK004_U2OS_96H_X2_B10_DUO52HI53LO</td>\n      <td>TRCN0000208001</td>\n      <td>EMPTY_VECTOR</td>\n      <td>ctl_vector</td>\n      <td>U2OS</td>\n      <td>96 h</td>\n      <td>1 uL</td>\n      <td>TAK004_U2OS_96H_X2_B10_DUO52HI53LO</td>\n      <td>NaN</td>\n      <td>TAK</td>\n    </tr>\n    <tr>\n      <th>1235689</th>\n      <td>9870</td>\n      <td>TAK004_U2OS_96H_X2_B10_DUO52HI53LO:I24</td>\n      <td>TAK004_U2OS_96H_X2_B10_DUO52HI53LO</td>\n      <td>TRCN0000072209</td>\n      <td>RFP</td>\n      <td>ctl_vector</td>\n      <td>U2OS</td>\n      <td>96 h</td>\n      <td>1 uL</td>\n      <td>TAK004_U2OS_96H_X2_B10_DUO52HI53LO</td>\n      <td>NaN</td>\n      <td>TAK</td>\n    </tr>\n    <tr>\n      <th>1235690</th>\n      <td>9871</td>\n      <td>TAK004_U2OS_96H_X2_B10_DUO52HI53LO:G14</td>\n      <td>TAK004_U2OS_96H_X2_B10_DUO52HI53LO</td>\n      <td>TRCN0000196342</td>\n      <td>RPS6KB1</td>\n      <td>trt_sh</td>\n      <td>U2OS</td>\n      <td>96 h</td>\n      <td>1 uL</td>\n      <td>TAK004_U2OS_96H_X2_B10_DUO52HI53LO</td>\n      <td>NaN</td>\n      <td>TAK</td>\n    </tr>\n    <tr>\n      <th>1235691</th>\n      <td>9872</td>\n      <td>TAK004_U2OS_96H_X2_B10_DUO52HI53LO:P15</td>\n      <td>TAK004_U2OS_96H_X2_B10_DUO52HI53LO</td>\n      <td>TRCN0000195303</td>\n      <td>EGFR</td>\n      <td>trt_sh</td>\n      <td>U2OS</td>\n      <td>96 h</td>\n      <td>1 uL</td>\n      <td>TAK004_U2OS_96H_X2_B10_DUO52HI53LO</td>\n      <td>NaN</td>\n      <td>TAK</td>\n    </tr>\n  </tbody>\n</table>\n<p>1235692 rows × 12 columns</p>\n</div>"
     },
     "execution_count": 96,
     "metadata": {},
     "output_type": "execute_result"
    }
   ],
   "source": [
    "obs_df"
   ],
   "metadata": {
    "collapsed": false,
    "ExecuteTime": {
     "end_time": "2024-02-07T13:39:14.589001Z",
     "start_time": "2024-02-07T13:39:14.584590Z"
    }
   },
   "id": "40c53cb393ae6917"
  },
  {
   "cell_type": "code",
   "execution_count": 97,
   "outputs": [
    {
     "data": {
      "text/plain": "25529"
     },
     "execution_count": 97,
     "metadata": {},
     "output_type": "execute_result"
    }
   ],
   "source": [
    "len(obs_df['cmap_name'].unique())"
   ],
   "metadata": {
    "collapsed": false,
    "ExecuteTime": {
     "end_time": "2024-02-07T13:39:14.665892Z",
     "start_time": "2024-02-07T13:39:14.605873Z"
    }
   },
   "id": "8f6335b557a69a02"
  },
  {
   "cell_type": "code",
   "execution_count": 98,
   "outputs": [
    {
     "name": "stderr",
     "output_type": "stream",
     "text": [
      "100%|██████████| 2/2 [00:08<00:00,  4.34s/it]\n"
     ]
    }
   ],
   "source": [
    "# now we can query compound info, where cmap_name=cmap_name\n",
    "#compund_info = cmap_query.cmap_compounds(bq_client, cmap_name=obs_df['cmap_name'].tolist())\n",
    "#print(list(set(obs_df['cmap_name'].tolist()) & set(compund_info['cmap_name'].tolist())))\n",
    "\n",
    "cmap_names = obs_df['cmap_name'].unique().tolist()\n",
    "compound_info = pd.DataFrame()\n",
    "step_size = 20000\n",
    "for i in tqdm(range(0, len(cmap_names), step_size)):\n",
    "    compound_info = pd.concat((compound_info, cmap_query.cmap_compounds(bq_client, cmap_name=cmap_names[i:i+step_size])))"
   ],
   "metadata": {
    "collapsed": false,
    "ExecuteTime": {
     "end_time": "2024-02-07T13:39:23.399116Z",
     "start_time": "2024-02-07T13:39:14.701496Z"
    }
   },
   "id": "6136bdb6190ee1fb"
  },
  {
   "cell_type": "code",
   "execution_count": 99,
   "outputs": [
    {
     "data": {
      "text/plain": "            pert_id      cmap_name target  \\\n0     BRD-A39230911   chlorphensin   None   \n1     BRD-A77577770  BRD-A77577770   None   \n2     BRD-K13994703  BRD-K13994703   None   \n3     BRD-K17874705  BRD-K17874705   None   \n4     BRD-K27853494  BRD-K27853494   None   \n...             ...            ...    ...   \n1006  BRD-K40738845     BMS-777607  MERTK   \n1007  BRD-K40738845     BMS-777607    MET   \n1008  BRD-K40738845     BMS-777607  MST1R   \n1009  BRD-K40738845     BMS-777607    AXL   \n1010  BRD-K40738845     BMS-777607  TYRO3   \n\n                                              moa  \\\n0                                            None   \n1                                            None   \n2                                            None   \n3                                            None   \n4                                            None   \n...                                           ...   \n1006  Hepatocyte growth factor receptor inhibitor   \n1007  Hepatocyte growth factor receptor inhibitor   \n1008  Hepatocyte growth factor receptor inhibitor   \n1009  Hepatocyte growth factor receptor inhibitor   \n1010  Hepatocyte growth factor receptor inhibitor   \n\n                                       canonical_smiles  \\\n0                            NC(=O)OCC(O)COc1ccc(Cl)cc1   \n1           CCCCCCCCCCCCCCCC(=O)OC(CC(O)=O)C[N+](C)(C)C   \n2                       CC(C)NC[C@H](O)COc1cccc2ccccc12   \n3                                           NCCc1ccccn1   \n4                           C[C@@H](N)[C@@H](O)c1ccccc1   \n...                                                 ...   \n1006  CCOc1ccn(-c2ccc(F)cc2)c(=O)c1C(=O)Nc1ccc(Oc2cc...   \n1007  CCOc1ccn(-c2ccc(F)cc2)c(=O)c1C(=O)Nc1ccc(Oc2cc...   \n1008  CCOc1ccn(-c2ccc(F)cc2)c(=O)c1C(=O)Nc1ccc(Oc2cc...   \n1009  CCOc1ccn(-c2ccc(F)cc2)c(=O)c1C(=O)Nc1ccc(Oc2cc...   \n1010  CCOc1ccn(-c2ccc(F)cc2)c(=O)c1C(=O)Nc1ccc(Oc2cc...   \n\n                        inchi_key         compound_aliases  \n0     SKPLBLUECSEIFO-UHFFFAOYSA-N  chlorphenesin-carbamate  \n1     XOMRRQXKHMYMOC-UHFFFAOYSA-O       palmitoylcarnitine  \n2     AQHHHDLHHXJYJD-AWEZNQCLSA-N          propranolol-(S)  \n3     XPQIPUZPSLAZDV-UHFFFAOYSA-N      2-pyridylethylamine  \n4     DLNKOYKMWOXYQA-VXNVDRBHSA-N      phenylpropanolamine  \n...                           ...                      ...  \n1006  VNBRGSXVFBYQNN-UHFFFAOYSA-N                     None  \n1007  VNBRGSXVFBYQNN-UHFFFAOYSA-N                     None  \n1008  VNBRGSXVFBYQNN-UHFFFAOYSA-N                     None  \n1009  VNBRGSXVFBYQNN-UHFFFAOYSA-N                     None  \n1010  VNBRGSXVFBYQNN-UHFFFAOYSA-N                     None  \n\n[24597 rows x 7 columns]",
      "text/html": "<div>\n<style scoped>\n    .dataframe tbody tr th:only-of-type {\n        vertical-align: middle;\n    }\n\n    .dataframe tbody tr th {\n        vertical-align: top;\n    }\n\n    .dataframe thead th {\n        text-align: right;\n    }\n</style>\n<table border=\"1\" class=\"dataframe\">\n  <thead>\n    <tr style=\"text-align: right;\">\n      <th></th>\n      <th>pert_id</th>\n      <th>cmap_name</th>\n      <th>target</th>\n      <th>moa</th>\n      <th>canonical_smiles</th>\n      <th>inchi_key</th>\n      <th>compound_aliases</th>\n    </tr>\n  </thead>\n  <tbody>\n    <tr>\n      <th>0</th>\n      <td>BRD-A39230911</td>\n      <td>chlorphensin</td>\n      <td>None</td>\n      <td>None</td>\n      <td>NC(=O)OCC(O)COc1ccc(Cl)cc1</td>\n      <td>SKPLBLUECSEIFO-UHFFFAOYSA-N</td>\n      <td>chlorphenesin-carbamate</td>\n    </tr>\n    <tr>\n      <th>1</th>\n      <td>BRD-A77577770</td>\n      <td>BRD-A77577770</td>\n      <td>None</td>\n      <td>None</td>\n      <td>CCCCCCCCCCCCCCCC(=O)OC(CC(O)=O)C[N+](C)(C)C</td>\n      <td>XOMRRQXKHMYMOC-UHFFFAOYSA-O</td>\n      <td>palmitoylcarnitine</td>\n    </tr>\n    <tr>\n      <th>2</th>\n      <td>BRD-K13994703</td>\n      <td>BRD-K13994703</td>\n      <td>None</td>\n      <td>None</td>\n      <td>CC(C)NC[C@H](O)COc1cccc2ccccc12</td>\n      <td>AQHHHDLHHXJYJD-AWEZNQCLSA-N</td>\n      <td>propranolol-(S)</td>\n    </tr>\n    <tr>\n      <th>3</th>\n      <td>BRD-K17874705</td>\n      <td>BRD-K17874705</td>\n      <td>None</td>\n      <td>None</td>\n      <td>NCCc1ccccn1</td>\n      <td>XPQIPUZPSLAZDV-UHFFFAOYSA-N</td>\n      <td>2-pyridylethylamine</td>\n    </tr>\n    <tr>\n      <th>4</th>\n      <td>BRD-K27853494</td>\n      <td>BRD-K27853494</td>\n      <td>None</td>\n      <td>None</td>\n      <td>C[C@@H](N)[C@@H](O)c1ccccc1</td>\n      <td>DLNKOYKMWOXYQA-VXNVDRBHSA-N</td>\n      <td>phenylpropanolamine</td>\n    </tr>\n    <tr>\n      <th>...</th>\n      <td>...</td>\n      <td>...</td>\n      <td>...</td>\n      <td>...</td>\n      <td>...</td>\n      <td>...</td>\n      <td>...</td>\n    </tr>\n    <tr>\n      <th>1006</th>\n      <td>BRD-K40738845</td>\n      <td>BMS-777607</td>\n      <td>MERTK</td>\n      <td>Hepatocyte growth factor receptor inhibitor</td>\n      <td>CCOc1ccn(-c2ccc(F)cc2)c(=O)c1C(=O)Nc1ccc(Oc2cc...</td>\n      <td>VNBRGSXVFBYQNN-UHFFFAOYSA-N</td>\n      <td>None</td>\n    </tr>\n    <tr>\n      <th>1007</th>\n      <td>BRD-K40738845</td>\n      <td>BMS-777607</td>\n      <td>MET</td>\n      <td>Hepatocyte growth factor receptor inhibitor</td>\n      <td>CCOc1ccn(-c2ccc(F)cc2)c(=O)c1C(=O)Nc1ccc(Oc2cc...</td>\n      <td>VNBRGSXVFBYQNN-UHFFFAOYSA-N</td>\n      <td>None</td>\n    </tr>\n    <tr>\n      <th>1008</th>\n      <td>BRD-K40738845</td>\n      <td>BMS-777607</td>\n      <td>MST1R</td>\n      <td>Hepatocyte growth factor receptor inhibitor</td>\n      <td>CCOc1ccn(-c2ccc(F)cc2)c(=O)c1C(=O)Nc1ccc(Oc2cc...</td>\n      <td>VNBRGSXVFBYQNN-UHFFFAOYSA-N</td>\n      <td>None</td>\n    </tr>\n    <tr>\n      <th>1009</th>\n      <td>BRD-K40738845</td>\n      <td>BMS-777607</td>\n      <td>AXL</td>\n      <td>Hepatocyte growth factor receptor inhibitor</td>\n      <td>CCOc1ccn(-c2ccc(F)cc2)c(=O)c1C(=O)Nc1ccc(Oc2cc...</td>\n      <td>VNBRGSXVFBYQNN-UHFFFAOYSA-N</td>\n      <td>None</td>\n    </tr>\n    <tr>\n      <th>1010</th>\n      <td>BRD-K40738845</td>\n      <td>BMS-777607</td>\n      <td>TYRO3</td>\n      <td>Hepatocyte growth factor receptor inhibitor</td>\n      <td>CCOc1ccn(-c2ccc(F)cc2)c(=O)c1C(=O)Nc1ccc(Oc2cc...</td>\n      <td>VNBRGSXVFBYQNN-UHFFFAOYSA-N</td>\n      <td>None</td>\n    </tr>\n  </tbody>\n</table>\n<p>24597 rows × 7 columns</p>\n</div>"
     },
     "execution_count": 99,
     "metadata": {},
     "output_type": "execute_result"
    }
   ],
   "source": [
    "compound_info"
   ],
   "metadata": {
    "collapsed": false,
    "ExecuteTime": {
     "end_time": "2024-02-07T13:39:23.426626Z",
     "start_time": "2024-02-07T13:39:23.416238Z"
    }
   },
   "id": "146135f820633521"
  },
  {
   "cell_type": "code",
   "execution_count": 100,
   "outputs": [
    {
     "data": {
      "text/plain": "False"
     },
     "execution_count": 100,
     "metadata": {},
     "output_type": "execute_result"
    }
   ],
   "source": [
    "len(compound_info['cmap_name'].unique()) == len(compound_info['cmap_name'].tolist())"
   ],
   "metadata": {
    "collapsed": false,
    "ExecuteTime": {
     "end_time": "2024-02-07T13:39:23.427890Z",
     "start_time": "2024-02-07T13:39:23.421281Z"
    }
   },
   "id": "7bc9546aa2066a90"
  },
  {
   "cell_type": "code",
   "execution_count": 101,
   "outputs": [
    {
     "data": {
      "text/plain": "             pert_id  cmap_name  target                            moa  \\\n342    BRD-K42828737  sunitinib    FLT1                  KIT inhibitor   \n343    BRD-K42828737  sunitinib    FLT3                  KIT inhibitor   \n344    BRD-K42828737  sunitinib    FLT4                  KIT inhibitor   \n345    BRD-K42828737  sunitinib     KDR                  KIT inhibitor   \n346    BRD-K42828737  sunitinib     KIT                  KIT inhibitor   \n...              ...        ...     ...                            ...   \n22093  BRD-M64432851  sunitinib     KDR  RET tyrosine kinase inhibitor   \n22094  BRD-M64432851  sunitinib     KIT  RET tyrosine kinase inhibitor   \n22095  BRD-M64432851  sunitinib  PDGFRA  RET tyrosine kinase inhibitor   \n22096  BRD-M64432851  sunitinib  PDGFRB  RET tyrosine kinase inhibitor   \n22097  BRD-M64432851  sunitinib     RET  RET tyrosine kinase inhibitor   \n\n                                        canonical_smiles  \\\n342    CCN(CC)CCNC(=O)c1c(C)[nH]c(C=C2/C(=O)Nc3ccc(F)...   \n343    CCN(CC)CCNC(=O)c1c(C)[nH]c(C=C2/C(=O)Nc3ccc(F)...   \n344    CCN(CC)CCNC(=O)c1c(C)[nH]c(C=C2/C(=O)Nc3ccc(F)...   \n345    CCN(CC)CCNC(=O)c1c(C)[nH]c(C=C2/C(=O)Nc3ccc(F)...   \n346    CCN(CC)CCNC(=O)c1c(C)[nH]c(C=C2/C(=O)Nc3ccc(F)...   \n...                                                  ...   \n22093  CCN(CC)CCNC(=O)c1c(C)[nH]c(C=C2/C(=O)Nc3ccc(F)...   \n22094  CCN(CC)CCNC(=O)c1c(C)[nH]c(C=C2/C(=O)Nc3ccc(F)...   \n22095  CCN(CC)CCNC(=O)c1c(C)[nH]c(C=C2/C(=O)Nc3ccc(F)...   \n22096  CCN(CC)CCNC(=O)c1c(C)[nH]c(C=C2/C(=O)Nc3ccc(F)...   \n22097  CCN(CC)CCNC(=O)c1c(C)[nH]c(C=C2/C(=O)Nc3ccc(F)...   \n\n                         inchi_key  compound_aliases  \n342    WINHZLLDWRZWRT-ATVHPVEESA-N  sunitinib-malate  \n343    WINHZLLDWRZWRT-ATVHPVEESA-N  sunitinib-malate  \n344    WINHZLLDWRZWRT-ATVHPVEESA-N  sunitinib-malate  \n345    WINHZLLDWRZWRT-ATVHPVEESA-N  sunitinib-malate  \n346    WINHZLLDWRZWRT-ATVHPVEESA-N  sunitinib-malate  \n...                            ...               ...  \n22093  WINHZLLDWRZWRT-ATVHPVEESA-N              None  \n22094  WINHZLLDWRZWRT-ATVHPVEESA-N              None  \n22095  WINHZLLDWRZWRT-ATVHPVEESA-N              None  \n22096  WINHZLLDWRZWRT-ATVHPVEESA-N              None  \n22097  WINHZLLDWRZWRT-ATVHPVEESA-N              None  \n\n[80 rows x 7 columns]",
      "text/html": "<div>\n<style scoped>\n    .dataframe tbody tr th:only-of-type {\n        vertical-align: middle;\n    }\n\n    .dataframe tbody tr th {\n        vertical-align: top;\n    }\n\n    .dataframe thead th {\n        text-align: right;\n    }\n</style>\n<table border=\"1\" class=\"dataframe\">\n  <thead>\n    <tr style=\"text-align: right;\">\n      <th></th>\n      <th>pert_id</th>\n      <th>cmap_name</th>\n      <th>target</th>\n      <th>moa</th>\n      <th>canonical_smiles</th>\n      <th>inchi_key</th>\n      <th>compound_aliases</th>\n    </tr>\n  </thead>\n  <tbody>\n    <tr>\n      <th>342</th>\n      <td>BRD-K42828737</td>\n      <td>sunitinib</td>\n      <td>FLT1</td>\n      <td>KIT inhibitor</td>\n      <td>CCN(CC)CCNC(=O)c1c(C)[nH]c(C=C2/C(=O)Nc3ccc(F)...</td>\n      <td>WINHZLLDWRZWRT-ATVHPVEESA-N</td>\n      <td>sunitinib-malate</td>\n    </tr>\n    <tr>\n      <th>343</th>\n      <td>BRD-K42828737</td>\n      <td>sunitinib</td>\n      <td>FLT3</td>\n      <td>KIT inhibitor</td>\n      <td>CCN(CC)CCNC(=O)c1c(C)[nH]c(C=C2/C(=O)Nc3ccc(F)...</td>\n      <td>WINHZLLDWRZWRT-ATVHPVEESA-N</td>\n      <td>sunitinib-malate</td>\n    </tr>\n    <tr>\n      <th>344</th>\n      <td>BRD-K42828737</td>\n      <td>sunitinib</td>\n      <td>FLT4</td>\n      <td>KIT inhibitor</td>\n      <td>CCN(CC)CCNC(=O)c1c(C)[nH]c(C=C2/C(=O)Nc3ccc(F)...</td>\n      <td>WINHZLLDWRZWRT-ATVHPVEESA-N</td>\n      <td>sunitinib-malate</td>\n    </tr>\n    <tr>\n      <th>345</th>\n      <td>BRD-K42828737</td>\n      <td>sunitinib</td>\n      <td>KDR</td>\n      <td>KIT inhibitor</td>\n      <td>CCN(CC)CCNC(=O)c1c(C)[nH]c(C=C2/C(=O)Nc3ccc(F)...</td>\n      <td>WINHZLLDWRZWRT-ATVHPVEESA-N</td>\n      <td>sunitinib-malate</td>\n    </tr>\n    <tr>\n      <th>346</th>\n      <td>BRD-K42828737</td>\n      <td>sunitinib</td>\n      <td>KIT</td>\n      <td>KIT inhibitor</td>\n      <td>CCN(CC)CCNC(=O)c1c(C)[nH]c(C=C2/C(=O)Nc3ccc(F)...</td>\n      <td>WINHZLLDWRZWRT-ATVHPVEESA-N</td>\n      <td>sunitinib-malate</td>\n    </tr>\n    <tr>\n      <th>...</th>\n      <td>...</td>\n      <td>...</td>\n      <td>...</td>\n      <td>...</td>\n      <td>...</td>\n      <td>...</td>\n      <td>...</td>\n    </tr>\n    <tr>\n      <th>22093</th>\n      <td>BRD-M64432851</td>\n      <td>sunitinib</td>\n      <td>KDR</td>\n      <td>RET tyrosine kinase inhibitor</td>\n      <td>CCN(CC)CCNC(=O)c1c(C)[nH]c(C=C2/C(=O)Nc3ccc(F)...</td>\n      <td>WINHZLLDWRZWRT-ATVHPVEESA-N</td>\n      <td>None</td>\n    </tr>\n    <tr>\n      <th>22094</th>\n      <td>BRD-M64432851</td>\n      <td>sunitinib</td>\n      <td>KIT</td>\n      <td>RET tyrosine kinase inhibitor</td>\n      <td>CCN(CC)CCNC(=O)c1c(C)[nH]c(C=C2/C(=O)Nc3ccc(F)...</td>\n      <td>WINHZLLDWRZWRT-ATVHPVEESA-N</td>\n      <td>None</td>\n    </tr>\n    <tr>\n      <th>22095</th>\n      <td>BRD-M64432851</td>\n      <td>sunitinib</td>\n      <td>PDGFRA</td>\n      <td>RET tyrosine kinase inhibitor</td>\n      <td>CCN(CC)CCNC(=O)c1c(C)[nH]c(C=C2/C(=O)Nc3ccc(F)...</td>\n      <td>WINHZLLDWRZWRT-ATVHPVEESA-N</td>\n      <td>None</td>\n    </tr>\n    <tr>\n      <th>22096</th>\n      <td>BRD-M64432851</td>\n      <td>sunitinib</td>\n      <td>PDGFRB</td>\n      <td>RET tyrosine kinase inhibitor</td>\n      <td>CCN(CC)CCNC(=O)c1c(C)[nH]c(C=C2/C(=O)Nc3ccc(F)...</td>\n      <td>WINHZLLDWRZWRT-ATVHPVEESA-N</td>\n      <td>None</td>\n    </tr>\n    <tr>\n      <th>22097</th>\n      <td>BRD-M64432851</td>\n      <td>sunitinib</td>\n      <td>RET</td>\n      <td>RET tyrosine kinase inhibitor</td>\n      <td>CCN(CC)CCNC(=O)c1c(C)[nH]c(C=C2/C(=O)Nc3ccc(F)...</td>\n      <td>WINHZLLDWRZWRT-ATVHPVEESA-N</td>\n      <td>None</td>\n    </tr>\n  </tbody>\n</table>\n<p>80 rows × 7 columns</p>\n</div>"
     },
     "execution_count": 101,
     "metadata": {},
     "output_type": "execute_result"
    }
   ],
   "source": [
    "# We need to have only one row for each cmap_name in compund_info, let's inspect why we have some duplicates\n",
    "# print example for entry in compund_info with same identical cmap_name\n",
    "compound_info[compound_info['cmap_name'] == 'sunitinib']"
   ],
   "metadata": {
    "collapsed": false,
    "ExecuteTime": {
     "end_time": "2024-02-07T13:39:23.438312Z",
     "start_time": "2024-02-07T13:39:23.427404Z"
    }
   },
   "id": "6f74ef9456aebf0f"
  },
  {
   "cell_type": "code",
   "execution_count": 102,
   "outputs": [
    {
     "data": {
      "text/plain": "          cmap_name                                          moa\n0      chlorphensin                                         None\n1     BRD-A77577770                                         None\n2     BRD-K13994703                                         None\n3     BRD-K17874705                                         None\n4     BRD-K27853494                                         None\n...             ...                                          ...\n1002      SR-144528         Cannabinoid receptor inverse agonist\n1003  purpurogallin       Catechol O methyltransferase inhibitor\n1004  BRD-K93367411     Kelch-like ECH-associated protein ligand\n1005  BRD-K98948170     Kelch-like ECH-associated protein ligand\n1006     BMS-777607  Hepatocyte growth factor receptor inhibitor\n\n[20257 rows x 2 columns]",
      "text/html": "<div>\n<style scoped>\n    .dataframe tbody tr th:only-of-type {\n        vertical-align: middle;\n    }\n\n    .dataframe tbody tr th {\n        vertical-align: top;\n    }\n\n    .dataframe thead th {\n        text-align: right;\n    }\n</style>\n<table border=\"1\" class=\"dataframe\">\n  <thead>\n    <tr style=\"text-align: right;\">\n      <th></th>\n      <th>cmap_name</th>\n      <th>moa</th>\n    </tr>\n  </thead>\n  <tbody>\n    <tr>\n      <th>0</th>\n      <td>chlorphensin</td>\n      <td>None</td>\n    </tr>\n    <tr>\n      <th>1</th>\n      <td>BRD-A77577770</td>\n      <td>None</td>\n    </tr>\n    <tr>\n      <th>2</th>\n      <td>BRD-K13994703</td>\n      <td>None</td>\n    </tr>\n    <tr>\n      <th>3</th>\n      <td>BRD-K17874705</td>\n      <td>None</td>\n    </tr>\n    <tr>\n      <th>4</th>\n      <td>BRD-K27853494</td>\n      <td>None</td>\n    </tr>\n    <tr>\n      <th>...</th>\n      <td>...</td>\n      <td>...</td>\n    </tr>\n    <tr>\n      <th>1002</th>\n      <td>SR-144528</td>\n      <td>Cannabinoid receptor inverse agonist</td>\n    </tr>\n    <tr>\n      <th>1003</th>\n      <td>purpurogallin</td>\n      <td>Catechol O methyltransferase inhibitor</td>\n    </tr>\n    <tr>\n      <th>1004</th>\n      <td>BRD-K93367411</td>\n      <td>Kelch-like ECH-associated protein ligand</td>\n    </tr>\n    <tr>\n      <th>1005</th>\n      <td>BRD-K98948170</td>\n      <td>Kelch-like ECH-associated protein ligand</td>\n    </tr>\n    <tr>\n      <th>1006</th>\n      <td>BMS-777607</td>\n      <td>Hepatocyte growth factor receptor inhibitor</td>\n    </tr>\n  </tbody>\n</table>\n<p>20257 rows × 2 columns</p>\n</div>"
     },
     "execution_count": 102,
     "metadata": {},
     "output_type": "execute_result"
    }
   ],
   "source": [
    "# we can have different targets for the same cmap_name, however, we are only interested in the moa\n",
    "# let's only keep the cmap_name and moa columns and drop duplicates\n",
    "compound_info = compound_info[['cmap_name', 'moa']].drop_duplicates()\n",
    "compound_info\n",
    "\n",
    "#TODO: We still have duplicates, e.g. sunitinib can be KIT inhibitor or FLT3 inhibitor, discuss how to handle this"
   ],
   "metadata": {
    "collapsed": false,
    "ExecuteTime": {
     "end_time": "2024-02-07T13:39:23.468574Z",
     "start_time": "2024-02-07T13:39:23.435337Z"
    }
   },
   "id": "dae05cfaba4f8da4"
  },
  {
   "cell_type": "code",
   "execution_count": 103,
   "outputs": [
    {
     "data": {
      "text/plain": "False"
     },
     "execution_count": 103,
     "metadata": {},
     "output_type": "execute_result"
    }
   ],
   "source": [
    "len(compound_info['cmap_name'].unique()) == len(compound_info['cmap_name'].tolist())"
   ],
   "metadata": {
    "collapsed": false,
    "ExecuteTime": {
     "end_time": "2024-02-07T13:39:23.503966Z",
     "start_time": "2024-02-07T13:39:23.443559Z"
    }
   },
   "id": "5baf41430fd343ba"
  },
  {
   "cell_type": "code",
   "execution_count": 104,
   "outputs": [
    {
     "name": "stdout",
     "output_type": "stream",
     "text": [
      "(1235692, 12)\n",
      "(1302992, 13)\n"
     ]
    }
   ],
   "source": [
    "print(obs_df.shape)\n",
    "obs_df = pd.merge(obs_df, compound_info, on='cmap_name', how='left')\n",
    "print(obs_df.shape)"
   ],
   "metadata": {
    "collapsed": false,
    "ExecuteTime": {
     "end_time": "2024-02-07T13:39:34.560449Z",
     "start_time": "2024-02-07T13:39:34.313015Z"
    }
   },
   "id": "71cb8e340e67aaef"
  },
  {
   "cell_type": "code",
   "execution_count": 105,
   "outputs": [
    {
     "data": {
      "text/plain": "         Unnamed: 0                               sample_id  \\\n0                 0               AML001_HL60_6H_X2_B11:O13   \n1                 1               AML001_HL60_6H_X2_B11:H22   \n2                 2               AML001_HL60_6H_X2_B11:O11   \n3                 3              AML001_PC3_6H_X1_F1B10:B17   \n4                 4              AML001_PC3_6H_X1_F1B10:O23   \n...             ...                                     ...   \n1302987        9868  TAK004_U2OS_96H_X2_B10_DUO52HI53LO:I13   \n1302988        9869  TAK004_U2OS_96H_X2_B10_DUO52HI53LO:P19   \n1302989        9870  TAK004_U2OS_96H_X2_B10_DUO52HI53LO:I24   \n1302990        9871  TAK004_U2OS_96H_X2_B10_DUO52HI53LO:G14   \n1302991        9872  TAK004_U2OS_96H_X2_B10_DUO52HI53LO:P15   \n\n                                  det_plate         pert_id     cmap_name  \\\n0                     AML001_HL60_6H_X2_B11            DMSO          DMSO   \n1                     AML001_HL60_6H_X2_B11            DMSO          DMSO   \n2                     AML001_HL60_6H_X2_B11            DMSO          DMSO   \n3                    AML001_PC3_6H_X1_F1B10            DMSO          DMSO   \n4                    AML001_PC3_6H_X1_F1B10            DMSO          DMSO   \n...                                     ...             ...           ...   \n1302987  TAK004_U2OS_96H_X2_B10_DUO52HI53LO  TRCN0000072208           RFP   \n1302988  TAK004_U2OS_96H_X2_B10_DUO52HI53LO  TRCN0000208001  EMPTY_VECTOR   \n1302989  TAK004_U2OS_96H_X2_B10_DUO52HI53LO  TRCN0000072209           RFP   \n1302990  TAK004_U2OS_96H_X2_B10_DUO52HI53LO  TRCN0000196342       RPS6KB1   \n1302991  TAK004_U2OS_96H_X2_B10_DUO52HI53LO  TRCN0000195303          EGFR   \n\n           pert_type cell_iname pert_itime pert_idose  \\\n0        ctl_vehicle       HL60        6 h        NaN   \n1        ctl_vehicle       HL60        6 h        NaN   \n2        ctl_vehicle       HL60        6 h        NaN   \n3        ctl_vehicle        PC3        6 h        NaN   \n4        ctl_vehicle        PC3        6 h        NaN   \n...              ...        ...        ...        ...   \n1302987   ctl_vector       U2OS       96 h       1 uL   \n1302988   ctl_vector       U2OS       96 h       1 uL   \n1302989   ctl_vector       U2OS       96 h       1 uL   \n1302990       trt_sh       U2OS       96 h       1 uL   \n1302991       trt_sh       U2OS       96 h       1 uL   \n\n                                det_plate_1  build_name project_code   moa  \n0                     AML001_HL60_6H_X2_B11         NaN          AML  None  \n1                     AML001_HL60_6H_X2_B11         NaN          AML  None  \n2                     AML001_HL60_6H_X2_B11         NaN          AML  None  \n3                    AML001_PC3_6H_X1_F1B10         NaN          AML  None  \n4                    AML001_PC3_6H_X1_F1B10         NaN          AML  None  \n...                                     ...         ...          ...   ...  \n1302987  TAK004_U2OS_96H_X2_B10_DUO52HI53LO         NaN          TAK   NaN  \n1302988  TAK004_U2OS_96H_X2_B10_DUO52HI53LO         NaN          TAK   NaN  \n1302989  TAK004_U2OS_96H_X2_B10_DUO52HI53LO         NaN          TAK   NaN  \n1302990  TAK004_U2OS_96H_X2_B10_DUO52HI53LO         NaN          TAK   NaN  \n1302991  TAK004_U2OS_96H_X2_B10_DUO52HI53LO         NaN          TAK   NaN  \n\n[1302992 rows x 13 columns]",
      "text/html": "<div>\n<style scoped>\n    .dataframe tbody tr th:only-of-type {\n        vertical-align: middle;\n    }\n\n    .dataframe tbody tr th {\n        vertical-align: top;\n    }\n\n    .dataframe thead th {\n        text-align: right;\n    }\n</style>\n<table border=\"1\" class=\"dataframe\">\n  <thead>\n    <tr style=\"text-align: right;\">\n      <th></th>\n      <th>Unnamed: 0</th>\n      <th>sample_id</th>\n      <th>det_plate</th>\n      <th>pert_id</th>\n      <th>cmap_name</th>\n      <th>pert_type</th>\n      <th>cell_iname</th>\n      <th>pert_itime</th>\n      <th>pert_idose</th>\n      <th>det_plate_1</th>\n      <th>build_name</th>\n      <th>project_code</th>\n      <th>moa</th>\n    </tr>\n  </thead>\n  <tbody>\n    <tr>\n      <th>0</th>\n      <td>0</td>\n      <td>AML001_HL60_6H_X2_B11:O13</td>\n      <td>AML001_HL60_6H_X2_B11</td>\n      <td>DMSO</td>\n      <td>DMSO</td>\n      <td>ctl_vehicle</td>\n      <td>HL60</td>\n      <td>6 h</td>\n      <td>NaN</td>\n      <td>AML001_HL60_6H_X2_B11</td>\n      <td>NaN</td>\n      <td>AML</td>\n      <td>None</td>\n    </tr>\n    <tr>\n      <th>1</th>\n      <td>1</td>\n      <td>AML001_HL60_6H_X2_B11:H22</td>\n      <td>AML001_HL60_6H_X2_B11</td>\n      <td>DMSO</td>\n      <td>DMSO</td>\n      <td>ctl_vehicle</td>\n      <td>HL60</td>\n      <td>6 h</td>\n      <td>NaN</td>\n      <td>AML001_HL60_6H_X2_B11</td>\n      <td>NaN</td>\n      <td>AML</td>\n      <td>None</td>\n    </tr>\n    <tr>\n      <th>2</th>\n      <td>2</td>\n      <td>AML001_HL60_6H_X2_B11:O11</td>\n      <td>AML001_HL60_6H_X2_B11</td>\n      <td>DMSO</td>\n      <td>DMSO</td>\n      <td>ctl_vehicle</td>\n      <td>HL60</td>\n      <td>6 h</td>\n      <td>NaN</td>\n      <td>AML001_HL60_6H_X2_B11</td>\n      <td>NaN</td>\n      <td>AML</td>\n      <td>None</td>\n    </tr>\n    <tr>\n      <th>3</th>\n      <td>3</td>\n      <td>AML001_PC3_6H_X1_F1B10:B17</td>\n      <td>AML001_PC3_6H_X1_F1B10</td>\n      <td>DMSO</td>\n      <td>DMSO</td>\n      <td>ctl_vehicle</td>\n      <td>PC3</td>\n      <td>6 h</td>\n      <td>NaN</td>\n      <td>AML001_PC3_6H_X1_F1B10</td>\n      <td>NaN</td>\n      <td>AML</td>\n      <td>None</td>\n    </tr>\n    <tr>\n      <th>4</th>\n      <td>4</td>\n      <td>AML001_PC3_6H_X1_F1B10:O23</td>\n      <td>AML001_PC3_6H_X1_F1B10</td>\n      <td>DMSO</td>\n      <td>DMSO</td>\n      <td>ctl_vehicle</td>\n      <td>PC3</td>\n      <td>6 h</td>\n      <td>NaN</td>\n      <td>AML001_PC3_6H_X1_F1B10</td>\n      <td>NaN</td>\n      <td>AML</td>\n      <td>None</td>\n    </tr>\n    <tr>\n      <th>...</th>\n      <td>...</td>\n      <td>...</td>\n      <td>...</td>\n      <td>...</td>\n      <td>...</td>\n      <td>...</td>\n      <td>...</td>\n      <td>...</td>\n      <td>...</td>\n      <td>...</td>\n      <td>...</td>\n      <td>...</td>\n      <td>...</td>\n    </tr>\n    <tr>\n      <th>1302987</th>\n      <td>9868</td>\n      <td>TAK004_U2OS_96H_X2_B10_DUO52HI53LO:I13</td>\n      <td>TAK004_U2OS_96H_X2_B10_DUO52HI53LO</td>\n      <td>TRCN0000072208</td>\n      <td>RFP</td>\n      <td>ctl_vector</td>\n      <td>U2OS</td>\n      <td>96 h</td>\n      <td>1 uL</td>\n      <td>TAK004_U2OS_96H_X2_B10_DUO52HI53LO</td>\n      <td>NaN</td>\n      <td>TAK</td>\n      <td>NaN</td>\n    </tr>\n    <tr>\n      <th>1302988</th>\n      <td>9869</td>\n      <td>TAK004_U2OS_96H_X2_B10_DUO52HI53LO:P19</td>\n      <td>TAK004_U2OS_96H_X2_B10_DUO52HI53LO</td>\n      <td>TRCN0000208001</td>\n      <td>EMPTY_VECTOR</td>\n      <td>ctl_vector</td>\n      <td>U2OS</td>\n      <td>96 h</td>\n      <td>1 uL</td>\n      <td>TAK004_U2OS_96H_X2_B10_DUO52HI53LO</td>\n      <td>NaN</td>\n      <td>TAK</td>\n      <td>NaN</td>\n    </tr>\n    <tr>\n      <th>1302989</th>\n      <td>9870</td>\n      <td>TAK004_U2OS_96H_X2_B10_DUO52HI53LO:I24</td>\n      <td>TAK004_U2OS_96H_X2_B10_DUO52HI53LO</td>\n      <td>TRCN0000072209</td>\n      <td>RFP</td>\n      <td>ctl_vector</td>\n      <td>U2OS</td>\n      <td>96 h</td>\n      <td>1 uL</td>\n      <td>TAK004_U2OS_96H_X2_B10_DUO52HI53LO</td>\n      <td>NaN</td>\n      <td>TAK</td>\n      <td>NaN</td>\n    </tr>\n    <tr>\n      <th>1302990</th>\n      <td>9871</td>\n      <td>TAK004_U2OS_96H_X2_B10_DUO52HI53LO:G14</td>\n      <td>TAK004_U2OS_96H_X2_B10_DUO52HI53LO</td>\n      <td>TRCN0000196342</td>\n      <td>RPS6KB1</td>\n      <td>trt_sh</td>\n      <td>U2OS</td>\n      <td>96 h</td>\n      <td>1 uL</td>\n      <td>TAK004_U2OS_96H_X2_B10_DUO52HI53LO</td>\n      <td>NaN</td>\n      <td>TAK</td>\n      <td>NaN</td>\n    </tr>\n    <tr>\n      <th>1302991</th>\n      <td>9872</td>\n      <td>TAK004_U2OS_96H_X2_B10_DUO52HI53LO:P15</td>\n      <td>TAK004_U2OS_96H_X2_B10_DUO52HI53LO</td>\n      <td>TRCN0000195303</td>\n      <td>EGFR</td>\n      <td>trt_sh</td>\n      <td>U2OS</td>\n      <td>96 h</td>\n      <td>1 uL</td>\n      <td>TAK004_U2OS_96H_X2_B10_DUO52HI53LO</td>\n      <td>NaN</td>\n      <td>TAK</td>\n      <td>NaN</td>\n    </tr>\n  </tbody>\n</table>\n<p>1302992 rows × 13 columns</p>\n</div>"
     },
     "execution_count": 105,
     "metadata": {},
     "output_type": "execute_result"
    }
   ],
   "source": [
    "obs_df"
   ],
   "metadata": {
    "collapsed": false,
    "ExecuteTime": {
     "end_time": "2024-02-07T13:39:36.724787Z",
     "start_time": "2024-02-07T13:39:36.716423Z"
    }
   },
   "id": "71081c57aa9d26f5"
  },
  {
   "cell_type": "code",
   "execution_count": 106,
   "outputs": [
    {
     "data": {
      "text/plain": "moa\nHDAC inhibitor                   9241\nDopamine receptor antagonist     6635\nPI3K inhibitor                   6343\nCyclooxygenase inhibitor         5916\nSerotonin receptor antagonist    5503\n                                 ... \nAntifibrinolytic                    9\nSuccinimide antiepileptic           9\nFibrinogen stimulant                9\nDOPA decarboxylase inhibitor        8\nAnti-HCVE2                          8\nName: count, Length: 529, dtype: int64"
     },
     "execution_count": 106,
     "metadata": {},
     "output_type": "execute_result"
    }
   ],
   "source": [
    "obs_df['moa'].value_counts()"
   ],
   "metadata": {
    "collapsed": false,
    "ExecuteTime": {
     "end_time": "2024-02-07T13:39:38.370061Z",
     "start_time": "2024-02-07T13:39:38.357088Z"
    }
   },
   "id": "5d5959a1ab7a6f44"
  },
  {
   "cell_type": "code",
   "execution_count": 107,
   "outputs": [
    {
     "name": "stdout",
     "output_type": "stream",
     "text": [
      "True\n",
      "False\n"
     ]
    }
   ],
   "source": [
    "# check if obs names are unique\n",
    "print(len(adata.obs_names) == len(set(adata.obs_names)))\n",
    "print(len(obs_df['sample_id']) == len(set(obs_df['sample_id'])))"
   ],
   "metadata": {
    "collapsed": false,
    "ExecuteTime": {
     "end_time": "2024-02-07T13:39:38.729958Z",
     "start_time": "2024-02-07T13:39:38.557676Z"
    }
   },
   "id": "f88883af4cdad0e5"
  },
  {
   "cell_type": "code",
   "execution_count": 108,
   "outputs": [
    {
     "name": "stdout",
     "output_type": "stream",
     "text": [
      "(1302992, 13)\n",
      "(1235692, 13)\n"
     ]
    }
   ],
   "source": [
    "# ToDo: Explore this more and find a better way to solve this\n",
    "print(obs_df.shape)\n",
    "obs_df.drop_duplicates(subset='sample_id', inplace=True)\n",
    "print(obs_df.shape)"
   ],
   "metadata": {
    "collapsed": false,
    "ExecuteTime": {
     "end_time": "2024-02-07T13:39:39.000613Z",
     "start_time": "2024-02-07T13:39:38.834485Z"
    }
   },
   "id": "121a1001ad1ad69f"
  },
  {
   "cell_type": "code",
   "execution_count": 109,
   "outputs": [
    {
     "name": "stdout",
     "output_type": "stream",
     "text": [
      "True\n"
     ]
    }
   ],
   "source": [
    "print(len(obs_df['sample_id']) == len(set(obs_df['sample_id'])))"
   ],
   "metadata": {
    "collapsed": false,
    "ExecuteTime": {
     "end_time": "2024-02-07T13:39:40.128352Z",
     "start_time": "2024-02-07T13:39:40.126566Z"
    }
   },
   "id": "185d78f736d908d1"
  },
  {
   "cell_type": "code",
   "execution_count": 111,
   "outputs": [],
   "source": [
    "# reorder var_df so that order in gene_id matches order in adata.var_names\n",
    "var_df = var_df.set_index('gene_id').reindex(adata.var_names.astype(int)).reset_index()\n",
    "adata.var = var_df\n",
    "\n",
    "obs_df = obs_df.set_index('sample_id').reindex(adata.obs_names).reset_index()\n",
    "adata.obs = obs_df"
   ],
   "metadata": {
    "collapsed": false,
    "ExecuteTime": {
     "end_time": "2024-02-07T13:39:51.366613Z",
     "start_time": "2024-02-07T13:39:50.427492Z"
    }
   },
   "id": "4fec70c67c1614ab"
  },
  {
   "cell_type": "code",
   "execution_count": 112,
   "outputs": [
    {
     "data": {
      "text/plain": "AnnData object with n_obs × n_vars = 1269922 × 978\n    obs: 'index', 'Unnamed: 0', 'det_plate', 'pert_id', 'cmap_name', 'pert_type', 'cell_iname', 'pert_itime', 'pert_idose', 'det_plate_1', 'build_name', 'project_code', 'moa'\n    var: 'index', 'gene_symbol', 'ensembl_id', 'gene_title', 'gene_type', 'src', 'feature_space'"
     },
     "execution_count": 112,
     "metadata": {},
     "output_type": "execute_result"
    }
   ],
   "source": [
    "adata"
   ],
   "metadata": {
    "collapsed": false,
    "ExecuteTime": {
     "end_time": "2024-02-07T13:39:51.824513Z",
     "start_time": "2024-02-07T13:39:51.813751Z"
    }
   },
   "id": "58a3176972c52dc1"
  },
  {
   "cell_type": "code",
   "execution_count": 113,
   "outputs": [
    {
     "data": {
      "text/plain": "cmap_name\nDMSO             26843\nUnTrt            15997\nGFP               5810\nLACZ              5683\nLUCIFERASE        4653\n                 ...  \nDCAMKL2              1\nTRIM26               1\nBRD-K47471281        1\nBRD-K60865324        1\nRFX3                 1\nName: count, Length: 25529, dtype: int64"
     },
     "execution_count": 113,
     "metadata": {},
     "output_type": "execute_result"
    }
   ],
   "source": [
    "adata.obs['cmap_name'].value_counts()"
   ],
   "metadata": {
    "collapsed": false,
    "ExecuteTime": {
     "end_time": "2024-02-07T13:40:20.477984Z",
     "start_time": "2024-02-07T13:40:20.471876Z"
    }
   },
   "id": "4593707c39604fc"
  },
  {
   "cell_type": "code",
   "execution_count": 114,
   "outputs": [
    {
     "data": {
      "text/plain": "moa\nHDAC inhibitor                     9241\nDopamine receptor antagonist       6586\nPI3K inhibitor                     5464\nHSP inhibitor                      5063\nEstrogen receptor antagonist       4367\n                                   ... \nDopamine precursor                    9\nPlasminogen activator inhibitor       8\nDOPA decarboxylase inhibitor          8\nSteroidal progestin                   8\nAnti-HCVE2                            8\nName: count, Length: 452, dtype: int64"
     },
     "execution_count": 114,
     "metadata": {},
     "output_type": "execute_result"
    }
   ],
   "source": [
    "adata.obs['moa'].value_counts()"
   ],
   "metadata": {
    "collapsed": false,
    "ExecuteTime": {
     "end_time": "2024-02-07T13:40:26.546770Z",
     "start_time": "2024-02-07T13:40:26.542871Z"
    }
   },
   "id": "882cb56a1576f581"
  },
  {
   "cell_type": "markdown",
   "source": [
    "# Train regression classifier"
   ],
   "metadata": {
    "collapsed": false
   },
   "id": "e6d5b7b6fb4ebb2f"
  },
  {
   "cell_type": "code",
   "execution_count": 115,
   "outputs": [
    {
     "name": "stdout",
     "output_type": "stream",
     "text": [
      "(1269922, 978)\n",
      "(150153, 978)\n"
     ]
    }
   ],
   "source": [
    "#TODO: Discuss how to progress here:\n",
    "# 1. Do we want to train on all perturbations or just the top 100?\n",
    "# 2. Should we select those perturbations for which we have MOA annotation?\n",
    "\n",
    "top_100_perts = adata.obs['cmap_name'].value_counts().head(100).index.tolist()\n",
    "print(adata.shape)\n",
    "adata = adata[adata.obs['cmap_name'].isin(top_100_perts)]\n",
    "print(adata.shape)"
   ],
   "metadata": {
    "collapsed": false,
    "ExecuteTime": {
     "end_time": "2024-02-07T13:42:00.899479Z",
     "start_time": "2024-02-07T13:42:00.847395Z"
    }
   },
   "id": "801e20a56d987983"
  },
  {
   "cell_type": "code",
   "execution_count": null,
   "outputs": [],
   "source": [
    "# TODO: Reduce dimensionality of adata first? If not, we have 978 features learned by the regression model for each perturbation"
   ],
   "metadata": {
    "collapsed": false
   },
   "id": "3c81147e8d4e94fc"
  },
  {
   "cell_type": "code",
   "execution_count": 116,
   "outputs": [
    {
     "name": "stderr",
     "output_type": "stream",
     "text": [
      "100%|██████████| 100/100 [16:08<00:00,  9.68s/it]\n"
     ]
    }
   ],
   "source": [
    "# fit one logistic regression model for each perturbation, get the weights as embeddings\n",
    "embeddings = {}\n",
    "scores = []\n",
    "\n",
    "for perturbation in tqdm(adata.obs['cmap_name'].unique()):\n",
    "    input_data = adata.X\n",
    "    labels = np.where(adata.obs['cmap_name'] == perturbation, 1, 0)\n",
    "    \n",
    "    x_train, x_test, y_train, y_test = train_test_split(input_data, labels, test_size=0.1, random_state=42)\n",
    "    \n",
    "    model = LogisticRegression(class_weight='balanced')\n",
    "    model.fit(x_train, y_train)\n",
    "    \n",
    "    score = model.score(x_test, y_test)\n",
    "    scores.append(score)\n",
    "    \n",
    "    # get model weights for this perturbation\n",
    "    weights = model.coef_\n",
    "    embeddings[perturbation] = weights"
   ],
   "metadata": {
    "collapsed": false,
    "ExecuteTime": {
     "end_time": "2024-02-07T13:58:22.228889Z",
     "start_time": "2024-02-07T13:42:13.820835Z"
    }
   },
   "id": "ce1775cce702c21"
  },
  {
   "cell_type": "code",
   "execution_count": 117,
   "outputs": [
    {
     "data": {
      "text/plain": "<Axes: ylabel='Count'>"
     },
     "execution_count": 117,
     "metadata": {},
     "output_type": "execute_result"
    },
    {
     "data": {
      "text/plain": "<Figure size 640x480 with 1 Axes>",
      "image/png": "[encoded data removed]"
     },
     "metadata": {},
     "output_type": "display_data"
    }
   ],
   "source": [
    "# plot scores\n",
    "sns.histplot(scores)"
   ],
   "metadata": {
    "collapsed": false,
    "ExecuteTime": {
     "end_time": "2024-02-07T13:59:27.042624Z",
     "start_time": "2024-02-07T13:59:26.922492Z"
    }
   },
   "id": "cf32ee367d6a3289"
  },
  {
   "cell_type": "code",
   "execution_count": 118,
   "outputs": [],
   "source": [
    "# create Anndata with weights as X, and perturbation name and observation as obs variables\n",
    "embeddings_adata = anndata.AnnData(X = np.array(list(embeddings.values())).squeeze())\n",
    "embeddings_adata.obs_names = list(embeddings.keys())\n",
    "\n",
    "# create dataframe with perturbation name and moa\n",
    "pert_and_moa = adata.obs[['cmap_name', 'moa']].drop_duplicates()\n",
    "\n",
    "# map perturbation name to moa\n",
    "embeddings_adata.obs['moa'] = embeddings_adata.obs_names.map(pert_and_moa.set_index('cmap_name')['moa'])"
   ],
   "metadata": {
    "collapsed": false,
    "ExecuteTime": {
     "end_time": "2024-02-07T14:00:01.328169Z",
     "start_time": "2024-02-07T14:00:01.303880Z"
    }
   },
   "id": "9d26b781788fcc46"
  },
  {
   "cell_type": "code",
   "execution_count": 119,
   "outputs": [
    {
     "data": {
      "text/plain": "AnnData object with n_obs × n_vars = 100 × 978\n    obs: 'moa'"
     },
     "execution_count": 119,
     "metadata": {},
     "output_type": "execute_result"
    }
   ],
   "source": [
    "embeddings_adata"
   ],
   "metadata": {
    "collapsed": false,
    "ExecuteTime": {
     "end_time": "2024-02-07T14:00:01.780023Z",
     "start_time": "2024-02-07T14:00:01.776265Z"
    }
   },
   "id": "1d77b52459df2010"
  },
  {
   "cell_type": "code",
   "execution_count": 120,
   "outputs": [
    {
     "data": {
      "text/plain": "moa\nHDAC inhibitor                              5\nEstrogen receptor antagonist                3\nKelch-like ECH-associated protein ligand    2\nHSP inhibitor                               2\nPI3K inhibitor                              1\nEstrogen receptor agonist                   1\nTyrosine kinase inhibitor                   1\nInsulin sensitizer                          1\nPLK inhibitor                               1\nRetinoid receptor ligand                    1\nDopamine receptor antagonist                1\nIKK inhibitor                               1\nSIRT activator                              1\nGlucocorticoid receptor agonist             1\nAnti-cancer agent                           1\nJAK inhibitor                               1\nLipoxygenase inhibitor                      1\nAurora kinase inhibitor                     1\nMTOR inhibitor                              1\nName: count, dtype: int64"
     },
     "execution_count": 120,
     "metadata": {},
     "output_type": "execute_result"
    }
   ],
   "source": [
    "embeddings_adata.obs['moa'].value_counts()"
   ],
   "metadata": {
    "collapsed": false,
    "ExecuteTime": {
     "end_time": "2024-02-07T14:00:04.431073Z",
     "start_time": "2024-02-07T14:00:04.420323Z"
    }
   },
   "id": "8eb3ca46b2f832bc"
  },
  {
   "cell_type": "code",
   "execution_count": 121,
   "outputs": [
    {
     "data": {
      "text/plain": "<Figure size 640x480 with 1 Axes>",
      "image/png": "[encoded data removed]"
     },
     "metadata": {},
     "output_type": "display_data"
    }
   ],
   "source": [
    "sc.pp.neighbors(embeddings_adata, use_rep='X')\n",
    "sc.tl.umap(embeddings_adata)\n",
    "sc.pl.umap(embeddings_adata, color=['moa'])"
   ],
   "metadata": {
    "collapsed": false,
    "ExecuteTime": {
     "end_time": "2024-02-07T14:00:09.500297Z",
     "start_time": "2024-02-07T14:00:08.456007Z"
    }
   },
   "id": "14c13403d7e75bcc"
  },
  {
   "cell_type": "code",
   "execution_count": null,
   "outputs": [],
   "source": [
    "#TODO: Discuss: Normalization (although scores are actually quite good)? Level 3 Data?"
   ],
   "metadata": {
    "collapsed": false,
    "ExecuteTime": {
     "start_time": "2024-01-19T15:22:32.718145Z"
    }
   },
   "id": "62b106914e0ccae1"
  }
 ],
 "metadata": {
  "kernelspec": {
   "display_name": "Python 3",
   "language": "python",
   "name": "python3"
  },
  "language_info": {
   "codemirror_mode": {
    "name": "ipython",
    "version": 2
   },
   "file_extension": ".py",
   "mimetype": "text/x-python",
   "name": "python",
   "nbconvert_exporter": "python",
   "pygments_lexer": "ipython2",
   "version": "2.7.6"
  }
 },
 "nbformat": 4,
 "nbformat_minor": 5
}
